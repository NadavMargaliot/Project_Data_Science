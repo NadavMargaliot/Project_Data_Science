{
 "cells": [
  {
   "cell_type": "code",
   "execution_count": 1,
   "id": "06c8b760",
   "metadata": {},
   "outputs": [],
   "source": [
    "# Restaurant rating prdiction using Yelp API"
   ]
  },
  {
   "cell_type": "code",
   "execution_count": 2,
   "id": "2d0c6e7f",
   "metadata": {},
   "outputs": [],
   "source": [
    "import pandas as pd \n",
    "import requests\n",
    "import csv\n",
    "from bs4 import BeautifulSoup\n",
    "import json\n",
    "import time\n",
    "import seaborn as sns\n",
    "import matplotlib.pyplot as plt"
   ]
  },
  {
   "cell_type": "code",
   "execution_count": 3,
   "id": "04ee9685",
   "metadata": {},
   "outputs": [],
   "source": [
    "# Data acquisition- Yelp API"
   ]
  },
  {
   "cell_type": "code",
   "execution_count": 4,
   "id": "97fcd57b",
   "metadata": {},
   "outputs": [],
   "source": [
    "# # Yelp API endpoint\n",
    "# url = \"https://api.yelp.com/v3/businesses/search\"\n",
    "\n",
    "# # Set your Yelp API key here\n",
    "# api_key = \"ZD6mo9uhBu1r47JiATdVhe6sJs2_hPLki2IH6v9YzKpPLHqOMuebguyIn64ZmvvRqndrchjhh5iYCTaBtVYiZQv1ph8qBJoi-iW55MMLd9_4n3RhHpWFIklcpWlmZHYx\"\n",
    "# businesses = []\n",
    "# # Parameters for the search\n",
    "# for city in ['NYC','San Francisco','Los Angeles']:\n",
    "#   for num in range(1,5):\n",
    "#     time.sleep(2)\n",
    "#     params = {\n",
    "#         \"location\": city,  # Example: Search businesses in San Francisco\n",
    "#         \"limit\": 19,  # Number of results per request\n",
    "#         \"offset\": 0 , # Starting offset for pagination\n",
    "#         \"price\": str(num)\n",
    "#     }\n",
    "\n",
    "#     # Number of businesses to retrieve\n",
    "#     desired_count =  len(businesses)+950\n",
    "#     while len(businesses) < desired_count:\n",
    "#         print(len(businesses))\n",
    "#         # Make a request to the Yelp API\n",
    "#         headers = {\"Authorization\": f\"Bearer {api_key}\"}\n",
    "#         response = requests.get(url, headers=headers, params=params)\n",
    "#         data = response.json()\n",
    "#         # print(data)\n",
    "#         # Extract business details from the response\n",
    "#         x = len(businesses)\n",
    "#         for business in data[\"businesses\"]:\n",
    "#             print(business)\n",
    "#             transactions = business.get(\"transactions\", [])\n",
    "#             delivery = 1 if \"delivery\" in transactions else 0\n",
    "#             pickup = 1 if \"pickup\" in transactions else 0       \n",
    "#             business_details = {\n",
    "#                 \"id\":business[\"id\"],\n",
    "#                 \"name\": business[\"name\"],\n",
    "#                 \"zipcode\": business[\"location\"][\"zip_code\"],\n",
    "#                 \"categories\": \", \".join(category[\"title\"] for category in business[\"categories\"]),\n",
    "#                 \"pickup\": pickup,\n",
    "#                 \"delivery\": delivery,\n",
    "#                 \"price_range\": business.get(\"price\", \"\"),\n",
    "#                 \"rating\": business.get(\"rating\", \"\")\n",
    "#             }\n",
    "#             businesses.append(business_details)\n",
    "#             # print(businesses)  \n",
    "#         # Update the offset for the next request\n",
    "#         if  x == len(businesses):\n",
    "#             break\n",
    "#         params[\"offset\"] += params[\"limit\"]\n",
    "\n"
   ]
  },
  {
   "cell_type": "code",
   "execution_count": 5,
   "id": "37fa810d",
   "metadata": {},
   "outputs": [],
   "source": [
    "# # Yelp API endpoint\n",
    "# url = \"https://api.yelp.com/v3/businesses/search\"\n",
    "\n",
    "# # Set your Yelp API key here\n",
    "# api_key = \"X5pBAYJoNxvYnbcJycQzc0RGJiDOQZ6s9ZeZn6TtvjzFJRXrLVy7vOQOCTI5F7Cs77-09QXCBdZ1eU8UvzTK4wROKCnJPwK5rqviSrOjlbfTiG-1E0ZsrzdDkDNmZHYx\"\n",
    "# # businesses = []\n",
    "# # Parameters for the search\n",
    "# #'NYC','San Francisco','Los Angeles']:\n",
    "\n",
    "# params = {\n",
    "#     \"location\": 'Los Angeles',  # Example: Search businesses in San Francisco\n",
    "#     \"limit\": 19,  # Number of results per request\n",
    "#     \"offset\": 0 , # Starting offset for pagination\n",
    "#     \"price\": '4'\n",
    "# }\n",
    "\n",
    "# # Number of businesses to retrieve\n",
    "# desired_count =  len(businesses)+950\n",
    "# while len(businesses) < desired_count:\n",
    "#     print(len(businesses))\n",
    "#     # Make a request to the Yelp API\n",
    "#     headers = {\"Authorization\": f\"Bearer {api_key}\"}\n",
    "#     response = requests.get(url, headers=headers, params=params)\n",
    "#     data = response.json()\n",
    "#     print(data)\n",
    "#     # Extract business details from the response\n",
    "#     x = len(businesses)\n",
    "#     for business in data[\"businesses\"]:\n",
    "#         print(business)\n",
    "#         transactions = business.get(\"transactions\", [])\n",
    "#         delivery = 1 if \"delivery\" in transactions else 0\n",
    "#         pickup = 1 if \"pickup\" in transactions else 0       \n",
    "#         business_details = {\n",
    "#             \"id\":business[\"id\"],\n",
    "#             \"name\": business[\"name\"],\n",
    "#             \"zipcode\": business[\"location\"][\"zip_code\"],\n",
    "#             \"categories\": \", \".join(category[\"title\"] for category in business[\"categories\"]),\n",
    "#             \"pickup\": pickup,\n",
    "#             \"delivery\": delivery,\n",
    "#             \"price_range\": business.get(\"price\", \"\"),\n",
    "#             \"rating\": business.get(\"rating\", \"\")\n",
    "#         }\n",
    "#         businesses.append(business_details)\n",
    "#         # print(businesses)  \n",
    "#     # Update the offset for the next request\n",
    "#     # if  x == len(businesses):\n",
    "#     #     break\n",
    "#     params[\"offset\"] += params[\"limit\"]\n",
    "#     print(\"************************\")\n",
    "#     print(params[\"offset\"])"
   ]
  },
  {
   "cell_type": "code",
   "execution_count": 6,
   "id": "17d20d02",
   "metadata": {},
   "outputs": [],
   "source": [
    "# # Save the retrieved businesses to a CSV file\n",
    "# filename = \"data.csv\"\n",
    "# fields = [\"id\",\"name\", \"zipcode\",  \"categories\", \"pickup\", \"delivery\", \"price_range\", \"rating\"]\n",
    "\n",
    "# with open(filename, mode=\"w\", newline=\"\") as file:\n",
    "#     writer = csv.DictWriter(file, fieldnames=fields)\n",
    "#     writer.writeheader()\n",
    "#     writer.writerows(businesses[:])  # Write the desired number of businesses\n",
    "\n",
    "# print(f\"Business details saved to {filename}!\")"
   ]
  },
  {
   "cell_type": "code",
   "execution_count": 7,
   "id": "ccc258de",
   "metadata": {
    "scrolled": true
   },
   "outputs": [
    {
     "data": {
      "text/html": [
       "<div>\n",
       "<style scoped>\n",
       "    .dataframe tbody tr th:only-of-type {\n",
       "        vertical-align: middle;\n",
       "    }\n",
       "\n",
       "    .dataframe tbody tr th {\n",
       "        vertical-align: top;\n",
       "    }\n",
       "\n",
       "    .dataframe thead th {\n",
       "        text-align: right;\n",
       "    }\n",
       "</style>\n",
       "<table border=\"1\" class=\"dataframe\">\n",
       "  <thead>\n",
       "    <tr style=\"text-align: right;\">\n",
       "      <th></th>\n",
       "      <th>id</th>\n",
       "      <th>name</th>\n",
       "      <th>zipcode</th>\n",
       "      <th>categories</th>\n",
       "      <th>pickup</th>\n",
       "      <th>delivery</th>\n",
       "      <th>price_range</th>\n",
       "      <th>rating</th>\n",
       "    </tr>\n",
       "  </thead>\n",
       "  <tbody>\n",
       "    <tr>\n",
       "      <th>0</th>\n",
       "      <td>zj8Lq1T8KIC5zwFief15jg</td>\n",
       "      <td>Prince Street Pizza</td>\n",
       "      <td>10012.0</td>\n",
       "      <td>pizza, italian</td>\n",
       "      <td>1</td>\n",
       "      <td>1</td>\n",
       "      <td>$</td>\n",
       "      <td>4.5</td>\n",
       "    </tr>\n",
       "    <tr>\n",
       "      <th>1</th>\n",
       "      <td>j1S3NUrkB3BVT49n_e76NQ</td>\n",
       "      <td>Best Bagel &amp; Coffee</td>\n",
       "      <td>10001.0</td>\n",
       "      <td>bagels, coffee &amp; tea, breakfast &amp; brunch</td>\n",
       "      <td>1</td>\n",
       "      <td>1</td>\n",
       "      <td>$</td>\n",
       "      <td>4.5</td>\n",
       "    </tr>\n",
       "    <tr>\n",
       "      <th>2</th>\n",
       "      <td>SULHf6nGQ8sK0UpG1XU30w</td>\n",
       "      <td>Los Tacos No.1</td>\n",
       "      <td>10036.0</td>\n",
       "      <td>tacos</td>\n",
       "      <td>0</td>\n",
       "      <td>1</td>\n",
       "      <td>$</td>\n",
       "      <td>4.5</td>\n",
       "    </tr>\n",
       "    <tr>\n",
       "      <th>3</th>\n",
       "      <td>v1DHGRNCH9247WLYoaoA9A</td>\n",
       "      <td>L'industrie Pizzeria</td>\n",
       "      <td>11211.0</td>\n",
       "      <td>pizza</td>\n",
       "      <td>0</td>\n",
       "      <td>1</td>\n",
       "      <td>$</td>\n",
       "      <td>4.5</td>\n",
       "    </tr>\n",
       "    <tr>\n",
       "      <th>4</th>\n",
       "      <td>vk7W3_sQwr7eZbRFsXv6rw</td>\n",
       "      <td>Taiyaki NYC</td>\n",
       "      <td>10013.0</td>\n",
       "      <td>desserts, japanese, ice cream &amp; frozen yogurt</td>\n",
       "      <td>0</td>\n",
       "      <td>1</td>\n",
       "      <td>$</td>\n",
       "      <td>4.5</td>\n",
       "    </tr>\n",
       "  </tbody>\n",
       "</table>\n",
       "</div>"
      ],
      "text/plain": [
       "                       id                  name  zipcode  \\\n",
       "0  zj8Lq1T8KIC5zwFief15jg   Prince Street Pizza  10012.0   \n",
       "1  j1S3NUrkB3BVT49n_e76NQ   Best Bagel & Coffee  10001.0   \n",
       "2  SULHf6nGQ8sK0UpG1XU30w        Los Tacos No.1  10036.0   \n",
       "3  v1DHGRNCH9247WLYoaoA9A  L'industrie Pizzeria  11211.0   \n",
       "4  vk7W3_sQwr7eZbRFsXv6rw           Taiyaki NYC  10013.0   \n",
       "\n",
       "                                      categories  pickup  delivery  \\\n",
       "0                                 pizza, italian       1         1   \n",
       "1       bagels, coffee & tea, breakfast & brunch       1         1   \n",
       "2                                          tacos       0         1   \n",
       "3                                          pizza       0         1   \n",
       "4  desserts, japanese, ice cream & frozen yogurt       0         1   \n",
       "\n",
       "  price_range  rating  \n",
       "0           $     4.5  \n",
       "1           $     4.5  \n",
       "2           $     4.5  \n",
       "3           $     4.5  \n",
       "4           $     4.5  "
      ]
     },
     "execution_count": 7,
     "metadata": {},
     "output_type": "execute_result"
    }
   ],
   "source": [
    "## created DF \n",
    "df = pd.read_csv(r\"C:\\Users\\HP\\Downloads\\data.csv\")\n",
    "df.head()"
   ]
  },
  {
   "cell_type": "code",
   "execution_count": 8,
   "id": "7c953954",
   "metadata": {},
   "outputs": [],
   "source": [
    "###Data Analysis\n",
    "#We want to understand which variables are important, view summary statistics, and visualize the data."
   ]
  },
  {
   "cell_type": "code",
   "execution_count": null,
   "id": "fa8e18ca",
   "metadata": {},
   "outputs": [
    {
     "data": {
      "text/plain": [
       "(7785, 8)"
      ]
     },
     "execution_count": 9,
     "metadata": {},
     "output_type": "execute_result"
    }
   ],
   "source": [
    "df.shape"
   ]
  },
  {
   "cell_type": "code",
   "execution_count": null,
   "id": "5cc04d27",
   "metadata": {},
   "outputs": [],
   "source": [
    "df.describe()"
   ]
  },
  {
   "cell_type": "code",
   "execution_count": null,
   "id": "141a8635",
   "metadata": {},
   "outputs": [],
   "source": [
    "df.info()"
   ]
  },
  {
   "cell_type": "code",
   "execution_count": null,
   "id": "65751493",
   "metadata": {},
   "outputs": [],
   "source": [
    "## Explaining each feauture and its input \n",
    "## id - not need\n",
    "## name - \n",
    "## zipcode - \n",
    "## categories - i want to split categories to col because to 1 or 0 in the category spesific and that to get more activity ..\n",
    "## pickup - \n",
    "## delivery - \n",
    "## price_range - i want to convert $ to numbers beacse שאפשר לחזות \n",
    "## rating - "
   ]
  },
  {
   "cell_type": "code",
   "execution_count": null,
   "id": "0cf1cae3",
   "metadata": {},
   "outputs": [],
   "source": [
    "## convert $ to number\n",
    "for index, value in df['price_range'].iteritems():\n",
    "    string_value = str(value)\n",
    "    length = len(string_value)\n",
    "    df.at[index, 'price_range'] = length\n",
    "df.head()"
   ]
  },
  {
   "cell_type": "code",
   "execution_count": null,
   "id": "9d856390",
   "metadata": {},
   "outputs": [],
   "source": [
    "##split categories\n",
    "##עשיתי את השורה הזאת כבר אך לא יכול להחזיר את זה לאותיות גדולות כמו שקיבלתי כי אז אצטרך להוציא שוב וזה יקח המון זמן\n",
    "df['categories'] = df['categories'].apply(lambda x: x.lower())\n",
    "categories = ['American', 'Italian', 'Asia', 'breakfast', 'bar', 'others']\n",
    "df[categories] = 0\n",
    "\n",
    "category_lists = {\n",
    "    'American': ['american', 'steakhouse', 'chicken', 'burger', 'hamburger', 'steak', 'fast food', 'donuts'],\n",
    "    'Asia': ['dim sum', 'sushi', 'japanese', 'chinese', 'thai', 'viet', 'vietnamese', 'taiwanese', 'noodles', 'ramen', 'curry', 'malaysian', 'cambodian'],\n",
    "    'bar': ['bar', 'pub', 'cocktails', 'drinks', 'party', 'club'],\n",
    "    'breakfast': ['brunch', 'coffee', 'bagel', 'breakfast', 'tea', 'sandwich', 'bakeries', 'delis'],\n",
    "    'Italian': ['italian', 'pizza', 'pasta', 'gelato']\n",
    "}\n",
    "\n",
    "for index, category in df['categories'].iteritems():\n",
    "    found_category = False\n",
    "    for cat, cat_list in category_lists.items():\n",
    "        if any(x in category for x in cat_list):\n",
    "            df.at[index, cat] = 1\n",
    "            found_category = True\n",
    "    if not found_category:\n",
    "        df.at[index, 'others'] = 1\n",
    "df.head()"
   ]
  },
  {
   "cell_type": "code",
   "execution_count": null,
   "id": "629931be",
   "metadata": {},
   "outputs": [],
   "source": [
    "#remove the coloms the i dont need to לחזות\n",
    "df = df.drop(['categories','id' ,'zipcode' ], axis=1)\n",
    "df.head()"
   ]
  },
  {
   "cell_type": "code",
   "execution_count": null,
   "id": "c90e2bc8",
   "metadata": {},
   "outputs": [],
   "source": [
    "desired_order = [ 'name', 'Italian', 'breakfast', 'Asia', 'American', 'bar', 'others',\n",
    "                 'pickup', 'delivery', 'price_range', 'rating']\n",
    "\n",
    "# Reindex the DataFrame with the desired column order\n",
    "df = df.reindex(columns=desired_order)\n",
    "df.head()"
   ]
  },
  {
   "cell_type": "code",
   "execution_count": null,
   "id": "2159c8b1",
   "metadata": {},
   "outputs": [],
   "source": [
    "df.tail()"
   ]
  },
  {
   "cell_type": "code",
   "execution_count": null,
   "id": "439c565a",
   "metadata": {},
   "outputs": [],
   "source": [
    "#Check how many values are null in each column\n",
    "df[df.columns[:]].isnull().sum()"
   ]
  },
  {
   "cell_type": "code",
   "execution_count": null,
   "id": "142307a6",
   "metadata": {},
   "outputs": [],
   "source": [
    "df.describe()"
   ]
  },
  {
   "cell_type": "code",
   "execution_count": null,
   "id": "669dc7cf",
   "metadata": {},
   "outputs": [],
   "source": [
    "# Calculating the number of restaurants for each rating\n",
    "rating_counts = df['rating'].value_counts().reset_index()\n",
    "rating_counts.columns = ['Rating', 'Number_of_Restaurants']\n",
    "print(rating_counts)"
   ]
  },
  {
   "cell_type": "code",
   "execution_count": null,
   "id": "d63fb54c",
   "metadata": {},
   "outputs": [],
   "source": [
    "# Checking how many resturant rating are above 4 and 3.5\n",
    "print(df[df['rating']>4].shape[0])\n",
    "print(df[df['rating']>3.5].shape[0])"
   ]
  },
  {
   "cell_type": "code",
   "execution_count": null,
   "id": "cd84792a",
   "metadata": {},
   "outputs": [],
   "source": [
    "#plotting a graph of how many resturants got what category.\n",
    "plt.rcParams['figure.figsize'] = (18, 9)\n",
    "categories = ['American', 'Italian', 'Asia', 'breakfast', 'bar', 'others']\n",
    "counts = [df[category].sum() for category in categories]\n",
    "rating_counts = pd.DataFrame({'Category': categories, 'Number_of_Restaurants': counts})\n",
    "rating_counts.plot(x='Category', y='Number_of_Restaurants', kind='bar')\n",
    "plt.xlabel('Category')\n",
    "plt.ylabel('Count of Restaurants')\n",
    "plt.title('Count of Restaurants by Category')\n",
    "plt.show()\n",
    "\n"
   ]
  },
  {
   "cell_type": "code",
   "execution_count": null,
   "id": "35ed6e28",
   "metadata": {},
   "outputs": [],
   "source": [
    "outliers = df\n",
    "for column in df.columns:\n",
    "    if pd.api.types.is_numeric_dtype(df[column]):\n",
    "        Q1 = df[column].quantile(0.25)\n",
    "        Q3 = df[column].quantile(0.75)\n",
    "        IQR = Q3 - Q1\n",
    "        lower_bound = Q1 - 1.5 * IQR\n",
    "        upper_bound = Q3 + 1.5 * IQR\n",
    "        outliers[column] = df[(df[column] < lower_bound) | (df[column] > upper_bound)][column]\n",
    "outliers.plot()"
   ]
  },
  {
   "cell_type": "code",
   "execution_count": null,
   "id": "5628ff85",
   "metadata": {},
   "outputs": [],
   "source": [
    "## cleaning the data with explanation and explaining the data that you kept \n",
    "## Also data analysis (things thats you see that might affect)\n",
    "## point out how many of each resteraunts "
   ]
  },
  {
   "cell_type": "code",
   "execution_count": null,
   "id": "eacb7087",
   "metadata": {},
   "outputs": [],
   "source": []
  },
  {
   "cell_type": "code",
   "execution_count": null,
   "id": "f39a475c",
   "metadata": {},
   "outputs": [],
   "source": [
    "### prediction\n",
    "### frist try to do dummy predicition \n",
    "### then use linear regression (There are a few different ones, USE LINEAR REGRESSION)\n",
    "### remember to split your data "
   ]
  },
  {
   "cell_type": "code",
   "execution_count": null,
   "id": "850083bb",
   "metadata": {},
   "outputs": [],
   "source": [
    "### add at the end confusion matrix "
   ]
  },
  {
   "cell_type": "code",
   "execution_count": null,
   "id": "ef739fa9",
   "metadata": {},
   "outputs": [],
   "source": [
    "### conclusion "
   ]
  },
  {
   "cell_type": "code",
   "execution_count": null,
   "id": "f80f9771",
   "metadata": {},
   "outputs": [],
   "source": []
  },
  {
   "cell_type": "code",
   "execution_count": null,
   "id": "2b264b7a",
   "metadata": {},
   "outputs": [],
   "source": []
  }
 ],
 "metadata": {
  "kernelspec": {
   "display_name": "Python 3 (ipykernel)",
   "language": "python",
   "name": "python3"
  },
  "language_info": {
   "codemirror_mode": {
    "name": "ipython",
    "version": 3
   },
   "file_extension": ".py",
   "mimetype": "text/x-python",
   "name": "python",
   "nbconvert_exporter": "python",
   "pygments_lexer": "ipython3",
   "version": "3.9.13"
  }
 },
 "nbformat": 4,
 "nbformat_minor": 5
}
